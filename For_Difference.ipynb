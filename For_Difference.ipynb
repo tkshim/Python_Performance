{
 "cells": [
  {
   "cell_type": "code",
   "execution_count": 1,
   "metadata": {
    "collapsed": true
   },
   "outputs": [],
   "source": [
    "import time"
   ]
  },
  {
   "cell_type": "code",
   "execution_count": 2,
   "metadata": {
    "collapsed": false
   },
   "outputs": [],
   "source": [
    "def chechFast(z):\n",
    "    x = time.clock()\n",
    "    num_list = [i * 2 for i in range(10**z)]\n",
    "    y = time.clock()\n",
    "    print y-x"
   ]
  },
  {
   "cell_type": "code",
   "execution_count": 3,
   "metadata": {
    "collapsed": false
   },
   "outputs": [
    {
     "name": "stdout",
     "output_type": "stream",
     "text": [
      "0.000646\n",
      "0.000657\n",
      "0.002767\n",
      "0.018994\n",
      "0.118656\n",
      "1.221971\n"
     ]
    }
   ],
   "source": [
    "for i in range(2,8):\n",
    "    chechFast(i)"
   ]
  },
  {
   "cell_type": "code",
   "execution_count": 4,
   "metadata": {
    "collapsed": false
   },
   "outputs": [],
   "source": [
    "def chechNormal(z):\n",
    "    x = time.clock()\n",
    "    num_list = []\n",
    "    for i in range(10**z):\n",
    "        num_list.append(i*2)\n",
    "    y = time.clock()\n",
    "    print y-x"
   ]
  },
  {
   "cell_type": "code",
   "execution_count": 5,
   "metadata": {
    "collapsed": false
   },
   "outputs": [
    {
     "name": "stdout",
     "output_type": "stream",
     "text": [
      "0.000129\n",
      "0.000973\n",
      "0.008022\n",
      "0.020654\n",
      "0.180224\n",
      "1.536296\n"
     ]
    }
   ],
   "source": [
    "for i in range(2,8):\n",
    "    chechNormal(i)"
   ]
  },
  {
   "cell_type": "code",
   "execution_count": null,
   "metadata": {
    "collapsed": true
   },
   "outputs": [],
   "source": []
  }
 ],
 "metadata": {
  "anaconda-cloud": {},
  "kernelspec": {
   "display_name": "Python [py27env]",
   "language": "python",
   "name": "Python [py27env]"
  },
  "language_info": {
   "codemirror_mode": {
    "name": "ipython",
    "version": 2
   },
   "file_extension": ".py",
   "mimetype": "text/x-python",
   "name": "python",
   "nbconvert_exporter": "python",
   "pygments_lexer": "ipython2",
   "version": "2.7.13"
  }
 },
 "nbformat": 4,
 "nbformat_minor": 0
}
